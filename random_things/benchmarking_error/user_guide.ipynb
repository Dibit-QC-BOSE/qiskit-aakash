{
 "cells": [
  {
   "cell_type": "markdown",
   "metadata": {},
   "source": [
    "# User Guide to the new dm_simulator "
   ]
  },
  {
   "cell_type": "markdown",
   "metadata": {},
   "source": [
    "This notebook introduces to the user how to use dm_simulator as well as gives live demostrations of various options available to the user"
   ]
  },
  {
   "cell_type": "markdown",
   "metadata": {},
   "source": [
    "### Installing the new version"
   ]
  },
  {
   "cell_type": "code",
   "execution_count": 1,
   "metadata": {},
   "outputs": [
    {
     "name": "stdout",
     "output_type": "stream",
     "text": [
      "Obtaining file:///home/biplab/Desktop/Work/Quantum_Simulator/Github/test_repo\n",
      "  Installing build dependencies ... \u001b[?25ldone\n",
      "\u001b[?25h  Getting requirements to build wheel ... \u001b[?25ldone\n",
      "\u001b[?25h    Preparing wheel metadata ... \u001b[?25ldone\n",
      "\u001b[?25hRequirement already satisfied: jsonschema<2.7,>=2.6 in /home/biplab/anaconda3/envs/quantum_comp/lib/python3.7/site-packages (from qiskit-terra==0.9.0) (2.6.0)\n",
      "Requirement already satisfied: scipy>=1.0 in /home/biplab/anaconda3/envs/quantum_comp/lib/python3.7/site-packages (from qiskit-terra==0.9.0) (1.2.1)\n",
      "Requirement already satisfied: marshmallow-polyfield<4,>=3.2 in /home/biplab/anaconda3/envs/quantum_comp/lib/python3.7/site-packages (from qiskit-terra==0.9.0) (3.2)\n",
      "Requirement already satisfied: ply>=3.10 in /home/biplab/anaconda3/envs/quantum_comp/lib/python3.7/site-packages (from qiskit-terra==0.9.0) (3.11)\n",
      "Requirement already satisfied: marshmallow<3,>=2.17.0 in /home/biplab/anaconda3/envs/quantum_comp/lib/python3.7/site-packages (from qiskit-terra==0.9.0) (2.19.2)\n",
      "Requirement already satisfied: psutil>=5 in /home/biplab/anaconda3/envs/quantum_comp/lib/python3.7/site-packages (from qiskit-terra==0.9.0) (5.6.2)\n",
      "Requirement already satisfied: numpy>=1.13 in /home/biplab/anaconda3/envs/quantum_comp/lib/python3.7/site-packages (from qiskit-terra==0.9.0) (1.16.3)\n",
      "Requirement already satisfied: sympy>=1.3 in /home/biplab/anaconda3/envs/quantum_comp/lib/python3.7/site-packages (from qiskit-terra==0.9.0) (1.4)\n",
      "Requirement already satisfied: networkx>=2.2 in /home/biplab/anaconda3/envs/quantum_comp/lib/python3.7/site-packages (from qiskit-terra==0.9.0) (2.3)\n",
      "Requirement already satisfied: mpmath>=0.19 in /home/biplab/anaconda3/envs/quantum_comp/lib/python3.7/site-packages (from sympy>=1.3->qiskit-terra==0.9.0) (1.1.0)\n",
      "Requirement already satisfied: decorator>=4.3.0 in /home/biplab/anaconda3/envs/quantum_comp/lib/python3.7/site-packages (from networkx>=2.2->qiskit-terra==0.9.0) (4.4.0)\n",
      "\u001b[31mERROR: qiskit 0.10.1 has requirement qiskit_terra==0.8.0, but you'll have qiskit-terra 0.9.0 which is incompatible.\u001b[0m\n",
      "\u001b[31mERROR: qiskit-aqua 0.5.0 has requirement qiskit-terra<0.9,>=0.8.0, but you'll have qiskit-terra 0.9.0 which is incompatible.\u001b[0m\n",
      "Installing collected packages: qiskit-terra\n",
      "  Found existing installation: qiskit-terra 0.9.0\n",
      "    Uninstalling qiskit-terra-0.9.0:\n",
      "      Successfully uninstalled qiskit-terra-0.9.0\n",
      "  Running setup.py develop for qiskit-terra\n",
      "Successfully installed qiskit-terra\n",
      "Note: you may need to restart the kernel to use updated packages.\n"
     ]
    }
   ],
   "source": [
    "pip install -e ../test_repo/ # replace the last option with the location of the downloaded file"
   ]
  },
  {
   "cell_type": "markdown",
   "metadata": {},
   "source": [
    "### Building a circuit"
   ]
  },
  {
   "cell_type": "code",
   "execution_count": 1,
   "metadata": {},
   "outputs": [],
   "source": [
    "from qiskit import *"
   ]
  },
  {
   "cell_type": "code",
   "execution_count": 112,
   "metadata": {},
   "outputs": [
    {
     "data": {
      "text/html": [
       "<pre style=\"word-wrap: normal;white-space: pre;line-height: 15px;\">          ┌───┐     \n",
       "q28_0: |0>┤ H ├──■──\n",
       "          └───┘┌─┴─┐\n",
       "q28_1: |0>─────┤ X ├\n",
       "               └───┘</pre>"
      ],
      "text/plain": [
       "<qiskit.visualization.text.TextDrawing at 0x7f779ccc1e48>"
      ]
     },
     "execution_count": 112,
     "metadata": {},
     "output_type": "execute_result"
    }
   ],
   "source": [
    "q = QuantumRegister(2)\n",
    "qc = QuantumCircuit(q)\n",
    "qc.h(q[0])\n",
    "qc.cx(q[0],q[1])\n",
    "qc.draw()"
   ]
  },
  {
   "cell_type": "code",
   "execution_count": 122,
   "metadata": {},
   "outputs": [],
   "source": [
    "backend = BasicAer.get_backend('dm_simulator')\n",
    "run = execute(qc,backend)\n",
    "result = run.result()"
   ]
  },
  {
   "cell_type": "code",
   "execution_count": 118,
   "metadata": {},
   "outputs": [
    {
     "data": {
      "text/plain": [
       "array([0.25, 0.25, 0.  , 0.  , 0.  , 0.  , 0.  , 0.  , 0.  , 0.  , 0.  ,\n",
       "       0.  , 0.25, 0.25, 0.  , 0.  ])"
      ]
     },
     "execution_count": 118,
     "metadata": {},
     "output_type": "execute_result"
    }
   ],
   "source": [
    "result[\"results\"][0][\"data\"][\"coeffmatrix\"]"
   ]
  },
  {
   "cell_type": "code",
   "execution_count": 119,
   "metadata": {},
   "outputs": [
    {
     "data": {
      "text/plain": [
       "array([[0.5+0.j, 0.5+0.j, 0. +0.j, 0. +0.j],\n",
       "       [0.5+0.j, 0.5+0.j, 0. +0.j, 0. +0.j],\n",
       "       [0. +0.j, 0. +0.j, 0. +0.j, 0. +0.j],\n",
       "       [0. +0.j, 0. +0.j, 0. +0.j, 0. +0.j]])"
      ]
     },
     "execution_count": 119,
     "metadata": {},
     "output_type": "execute_result"
    }
   ],
   "source": [
    "result[\"results\"][0][\"data\"][\"densitymatrix\"]"
   ]
  },
  {
   "cell_type": "markdown",
   "metadata": {},
   "source": [
    "### Different Intialization options"
   ]
  },
  {
   "cell_type": "markdown",
   "metadata": {},
   "source": [
    "User can choose the initial density matrix from the following options\n",
    "1. 'max_mixed'  \n",
    "2. 'uniform_superpos'\n",
    "3. 'thermal_state'\n",
    "4. 'binary_string' \n",
    "\n",
    "If not given any option all qubits are initialised to zero state."
   ]
  },
  {
   "cell_type": "code",
   "execution_count": 126,
   "metadata": {},
   "outputs": [],
   "source": [
    "qc1 = QuantumCircuit(2)\n",
    "backend = BasicAer.get_backend('dm_simulator')\n",
    "options = {'custom_densitymatrix': 'uniform_superpos'}\n",
    "run = execute(qc1,backend,**options)"
   ]
  },
  {
   "cell_type": "code",
   "execution_count": 128,
   "metadata": {},
   "outputs": [
    {
     "data": {
      "text/plain": [
       "{'coeffmatrix': array([0.25, 0.25, 0.  , 0.  , 0.25, 0.25, 0.  , 0.  , 0.  , 0.  , 0.  ,\n",
       "        0.  , 0.  , 0.  , 0.  , 0.  ]),\n",
       " 'densitymatrix': array([[0.25+0.j, 0.25+0.j, 0.25+0.j, 0.25+0.j],\n",
       "        [0.25+0.j, 0.25+0.j, 0.25+0.j, 0.25+0.j],\n",
       "        [0.25+0.j, 0.25+0.j, 0.25+0.j, 0.25+0.j],\n",
       "        [0.25+0.j, 0.25+0.j, 0.25+0.j, 0.25+0.j]])}"
      ]
     },
     "execution_count": 128,
     "metadata": {},
     "output_type": "execute_result"
    }
   ],
   "source": [
    "result = run.result()\n",
    "result[\"results\"][0][\"data\"]"
   ]
  },
  {
   "cell_type": "markdown",
   "metadata": {},
   "source": [
    "## Different Measurment options"
   ]
  },
  {
   "cell_type": "markdown",
   "metadata": {},
   "source": [
    "Projective measurement can be done in any basis. Along with that one can do simultaneous measurement on multiple qubits."
   ]
  },
  {
   "cell_type": "code",
   "execution_count": 13,
   "metadata": {},
   "outputs": [
    {
     "data": {
      "text/html": [
       "<pre style=\"word-wrap: normal;white-space: pre;line-height: 15px;\">             ┌─┐\n",
       "q_0: |0>──■──┤M├\n",
       "        ┌─┴─┐└╥┘\n",
       "q_1: |0>┤ X ├─╫─\n",
       "        └───┘ ║ \n",
       " c_0: 0 ══════╩═\n",
       "                </pre>"
      ],
      "text/plain": [
       "<qiskit.visualization.text.TextDrawing at 0x7fd08ff26588>"
      ]
     },
     "execution_count": 13,
     "metadata": {},
     "output_type": "execute_result"
    }
   ],
   "source": [
    "qc2 = QuantumCircuit(2,1)\n",
    "qc2.cx(0,1)\n",
    "qc2.measure(0,0,basis=\"N\", add_param=\"[0.5,0,0.5]\")\n",
    "qc2.draw()"
   ]
  },
  {
   "cell_type": "code",
   "execution_count": 8,
   "metadata": {},
   "outputs": [
    {
     "data": {
      "text/plain": [
       "{'counts': {'0x0': 1},\n",
       " 'coeffmatrix': array([0.5, 0.5, 0. , 0. ]),\n",
       " 'densitymatrix': array([[0.5+0.j, 0.5+0.j],\n",
       "        [0.5+0.j, 0.5+0.j]])}"
      ]
     },
     "execution_count": 8,
     "metadata": {},
     "output_type": "execute_result"
    }
   ],
   "source": [
    "backend = BasicAer.get_backend('dm_simulator')\n",
    "run = execute(qc2,backend)\n",
    "result2 = run.result()\n",
    "result2[\"results\"][0][\"data\"]"
   ]
  },
  {
   "cell_type": "markdown",
   "metadata": {},
   "source": [
    "### Bell basis measurement "
   ]
  },
  {
   "cell_type": "code",
   "execution_count": 12,
   "metadata": {},
   "outputs": [
    {
     "data": {
      "text/plain": [
       "{'counts': {'0x0': 1},\n",
       " 'coeffmatrix': array([ 0.25,  0.  ,  0.  ,  0.  ,  0.  ,  0.  ,  0.  ,  0.  ,  0.  ,\n",
       "         0.  ,  0.  ,  0.  ,  0.  ,  0.  ,  0.  , -0.25]),\n",
       " 'densitymatrix': array([[0. +0.j, 0. +0.j, 0. +0.j, 0. +0.j],\n",
       "        [0. +0.j, 0.5+0.j, 0. +0.j, 0. +0.j],\n",
       "        [0. +0.j, 0. +0.j, 0.5+0.j, 0. +0.j],\n",
       "        [0. +0.j, 0. +0.j, 0. +0.j, 0. +0.j]])}"
      ]
     },
     "execution_count": 12,
     "metadata": {},
     "output_type": "execute_result"
    }
   ],
   "source": [
    "qc = QuantumCircuit(2,2)\n",
    "qc.x(0)\n",
    "qc.measure(0,0, basis=\"Bell\", add_param=\"01\") # add_param represent the two qubits that are measured \n",
    "backend = BasicAer.get_backend(\"dm_simulator\")\n",
    "run = execute(qc,backend)\n",
    "result = run.result()\n",
    "result[\"results\"][0][\"data\"]"
   ]
  },
  {
   "cell_type": "markdown",
   "metadata": {},
   "source": [
    "### Ensemble Measurement"
   ]
  },
  {
   "cell_type": "code",
   "execution_count": 9,
   "metadata": {},
   "outputs": [
    {
     "data": {
      "text/plain": [
       "{'counts': {'0x0': 1},\n",
       " 'coeffmatrix': array([0.25, 0.  , 0.  , 0.  , 0.  , 0.  , 0.  , 0.  , 0.  , 0.  , 0.  ,\n",
       "        0.  , 0.  , 0.  , 0.  , 0.  ]),\n",
       " 'densitymatrix': array([[2.500000e-01+0.j, 0.000000e+00+0.j, 3.061617e-17+0.j,\n",
       "         0.000000e+00+0.j],\n",
       "        [0.000000e+00+0.j, 2.500000e-01+0.j, 0.000000e+00+0.j,\n",
       "         3.061617e-17+0.j],\n",
       "        [3.061617e-17+0.j, 0.000000e+00+0.j, 2.500000e-01+0.j,\n",
       "         0.000000e+00+0.j],\n",
       "        [0.000000e+00+0.j, 3.061617e-17+0.j, 0.000000e+00+0.j,\n",
       "         2.500000e-01+0.j]])}"
      ]
     },
     "execution_count": 9,
     "metadata": {},
     "output_type": "execute_result"
    }
   ],
   "source": [
    "q = QuantumRegister(2)\n",
    "c = ClassicalRegister(2)\n",
    "qc = QuantumCircuit(q,c)\n",
    "qc.x(q[0])\n",
    "qc.measure(q,c, basis=\"X\") \n",
    "backend = BasicAer.get_backend(\"dm_simulator\")\n",
    "run = execute(qc,backend)\n",
    "result = run.result()\n",
    "result[\"results\"][0][\"data\"]"
   ]
  },
  {
   "cell_type": "markdown",
   "metadata": {},
   "source": [
    "### Expectation of a Pauli string"
   ]
  },
  {
   "cell_type": "code",
   "execution_count": 20,
   "metadata": {},
   "outputs": [
    {
     "data": {
      "text/plain": [
       "{'counts': {'0x0': 1},\n",
       " 'coeffmatrix': array([0.25, 0.  , 0.  , 0.  , 0.  , 0.  , 0.  , 0.  , 0.  , 0.  , 0.  ,\n",
       "        0.  , 0.  , 0.  , 0.  , 0.  ]),\n",
       " 'densitymatrix': array([[2.500000e-01+0.j, 0.000000e+00+0.j, 3.061617e-17+0.j,\n",
       "         0.000000e+00+0.j],\n",
       "        [0.000000e+00+0.j, 2.500000e-01+0.j, 0.000000e+00+0.j,\n",
       "         3.061617e-17+0.j],\n",
       "        [3.061617e-17+0.j, 0.000000e+00+0.j, 2.500000e-01+0.j,\n",
       "         0.000000e+00+0.j],\n",
       "        [0.000000e+00+0.j, 3.061617e-17+0.j, 0.000000e+00+0.j,\n",
       "         2.500000e-01+0.j]])}"
      ]
     },
     "execution_count": 20,
     "metadata": {},
     "output_type": "execute_result"
    }
   ],
   "source": [
    "q = QuantumRegister(2)\n",
    "c = ClassicalRegister(2)\n",
    "qc = QuantumCircuit(q,c)\n",
    "qc.x(q[0])\n",
    "qc.measure(q,c, basis=\"X\") \n",
    "backend = BasicAer.get_backend(\"dm_simulator\")\n",
    "run = execute(qc,backend)\n",
    "result = run.result()\n",
    "result[\"results\"][0][\"data\"]"
   ]
  },
  {
   "cell_type": "markdown",
   "metadata": {},
   "source": [
    "## Noise Models"
   ]
  },
  {
   "cell_type": "code",
   "execution_count": 2,
   "metadata": {},
   "outputs": [
    {
     "ename": "NameError",
     "evalue": "name 'np' is not defined",
     "output_type": "error",
     "traceback": [
      "\u001b[0;31m---------------------------------------------------------------------------\u001b[0m",
      "\u001b[0;31mNameError\u001b[0m                                 Traceback (most recent call last)",
      "\u001b[0;32m<ipython-input-2-a1dff17b18c2>\u001b[0m in \u001b[0;36m<module>\u001b[0;34m\u001b[0m\n\u001b[0;32m----> 1\u001b[0;31m \u001b[0mnp\u001b[0m\u001b[0;34m.\u001b[0m\u001b[0mcos\u001b[0m\u001b[0;34m(\u001b[0m\u001b[0;36m0.3\u001b[0m\u001b[0;34m)\u001b[0m\u001b[0;34m\u001b[0m\u001b[0;34m\u001b[0m\u001b[0m\n\u001b[0m",
      "\u001b[0;31mNameError\u001b[0m: name 'np' is not defined"
     ]
    }
   ],
   "source": [
    "np.cos(0.3)"
   ]
  },
  {
   "cell_type": "code",
   "execution_count": 4,
   "metadata": {},
   "outputs": [
    {
     "data": {
      "text/plain": [
       "{'bell_probabilities01': {'Bell_1': 0.24999999999999997,\n",
       "  'Bell_2': 0.24999999999999997,\n",
       "  'Bell_3': 0.25,\n",
       "  'Bell_4': 0.25},\n",
       " 'reduced_bell_densitymatrix01': array([[ 2.5000000e-01,  2.5000000e-01,  0.0000000e+00,  1.5308085e-17],\n",
       "        [ 0.0000000e+00,  0.0000000e+00,  0.0000000e+00,  0.0000000e+00],\n",
       "        [ 0.0000000e+00,  0.0000000e+00,  0.0000000e+00,  0.0000000e+00],\n",
       "        [-2.5000000e-01, -2.5000000e-01,  0.0000000e+00, -1.5308085e-17]]),\n",
       " 'coeffmatrix': array([ 0.125,  0.   ,  0.   ,  0.   ,  0.   ,  0.   ,  0.   ,  0.   ,\n",
       "         0.   ,  0.   ,  0.   ,  0.   ,  0.   ,  0.   ,  0.   ,  0.   ,\n",
       "         0.   ,  0.   ,  0.   ,  0.   ,  0.   ,  0.   ,  0.   ,  0.   ,\n",
       "         0.   ,  0.   ,  0.   ,  0.   ,  0.   ,  0.   ,  0.   ,  0.   ,\n",
       "         0.   ,  0.   ,  0.   ,  0.   ,  0.   ,  0.   ,  0.   ,  0.   ,\n",
       "         0.   ,  0.   ,  0.   ,  0.   ,  0.   ,  0.   ,  0.   ,  0.   ,\n",
       "        -0.125,  0.   ,  0.   ,  0.   ,  0.   ,  0.   ,  0.   ,  0.   ,\n",
       "         0.   ,  0.   ,  0.   ,  0.   ,  0.   ,  0.   ,  0.   ,  0.   ]),\n",
       " 'densitymatrix': array([[-6.22374531e-18+0.j,  0.00000000e+00+0.j,  0.00000000e+00+0.j,\n",
       "          0.00000000e+00+0.j,  0.00000000e+00+0.j,  0.00000000e+00+0.j,\n",
       "          0.00000000e+00+0.j,  1.53080850e-17+0.j],\n",
       "        [ 0.00000000e+00+0.j, -7.65404249e-18+0.j,  0.00000000e+00+0.j,\n",
       "          0.00000000e+00+0.j,  0.00000000e+00+0.j,  0.00000000e+00+0.j,\n",
       "          1.53080850e-17+0.j,  0.00000000e+00+0.j],\n",
       "        [ 0.00000000e+00+0.j,  0.00000000e+00+0.j, -7.65404249e-18+0.j,\n",
       "          0.00000000e+00+0.j,  0.00000000e+00+0.j,  1.53080850e-17+0.j,\n",
       "          0.00000000e+00+0.j,  0.00000000e+00+0.j],\n",
       "        [ 0.00000000e+00+0.j,  0.00000000e+00+0.j,  0.00000000e+00+0.j,\n",
       "         -6.22374531e-18+0.j,  1.53080850e-17+0.j,  0.00000000e+00+0.j,\n",
       "          0.00000000e+00+0.j,  0.00000000e+00+0.j],\n",
       "        [ 0.00000000e+00+0.j,  0.00000000e+00+0.j,  0.00000000e+00+0.j,\n",
       "          1.53080850e-17+0.j,  2.50000000e-01+0.j,  0.00000000e+00+0.j,\n",
       "          0.00000000e+00+0.j,  0.00000000e+00+0.j],\n",
       "        [ 0.00000000e+00+0.j,  0.00000000e+00+0.j,  1.53080850e-17+0.j,\n",
       "          0.00000000e+00+0.j,  0.00000000e+00+0.j,  2.50000000e-01+0.j,\n",
       "          0.00000000e+00+0.j,  0.00000000e+00+0.j],\n",
       "        [ 0.00000000e+00+0.j,  1.53080850e-17+0.j,  0.00000000e+00+0.j,\n",
       "          0.00000000e+00+0.j,  0.00000000e+00+0.j,  0.00000000e+00+0.j,\n",
       "          2.50000000e-01+0.j,  0.00000000e+00+0.j],\n",
       "        [ 1.53080850e-17+0.j,  0.00000000e+00+0.j,  0.00000000e+00+0.j,\n",
       "          0.00000000e+00+0.j,  0.00000000e+00+0.j,  0.00000000e+00+0.j,\n",
       "          0.00000000e+00+0.j,  2.50000000e-01+0.j]])}"
      ]
     },
     "execution_count": 4,
     "metadata": {},
     "output_type": "execute_result"
    }
   ],
   "source": [
    "%matplotlib notebook\n",
    "from qiskit import *\n",
    "q = QuantumRegister(3)\n",
    "c = ClassicalRegister(3)\n",
    "qc = QuantumCircuit(q,c)\n",
    "options = {\"chop_threshold\": 1e-15,\n",
    "        \"thermal_factor\": 0.,\n",
    "        \"decoherence_factor\": 1.,\n",
    "        \"depolarization_factor\": 1.,\n",
    "        \"bell_depolarization_factor\": 1.,\n",
    "        \"decay_factor\": 1.,\n",
    "        \"rotation_error\": {'rx':[1., 0.], 'ry':[1., 0.], 'rz': [1., 0.]},\n",
    "        \"tsp_model_error\": [1., 0.]}\n",
    "qc.x(q[0])\n",
    "qc.h(q[2])\n",
    "qc.cx(q[0],q[1])\n",
    "qc.measure(q[0],c[0],basis='Bell',add_param='01') \n",
    "#qc.measure(q,c)\n",
    "backend = BasicAer.get_backend(\"dm_simulator\")\n",
    "run = execute(qc,backend,**options)\n",
    "result = run.result()\n",
    "result[\"results\"][0][\"data\"]"
   ]
  },
  {
   "cell_type": "code",
   "execution_count": 2,
   "metadata": {},
   "outputs": [
    {
     "ename": "KeyError",
     "evalue": "'reduced_bell_densitymatrix'",
     "output_type": "error",
     "traceback": [
      "\u001b[0;31m---------------------------------------------------------------------------\u001b[0m",
      "\u001b[0;31mKeyError\u001b[0m                                  Traceback (most recent call last)",
      "\u001b[0;32m<ipython-input-2-af82a59f1f27>\u001b[0m in \u001b[0;36m<module>\u001b[0;34m\u001b[0m\n\u001b[0;32m----> 1\u001b[0;31m \u001b[0mbell\u001b[0m \u001b[0;34m=\u001b[0m \u001b[0mresult\u001b[0m\u001b[0;34m[\u001b[0m\u001b[0;34m\"results\"\u001b[0m\u001b[0;34m]\u001b[0m\u001b[0;34m[\u001b[0m\u001b[0;36m0\u001b[0m\u001b[0;34m]\u001b[0m\u001b[0;34m[\u001b[0m\u001b[0;34m\"data\"\u001b[0m\u001b[0;34m]\u001b[0m\u001b[0;34m[\u001b[0m\u001b[0;34m\"reduced_bell_densitymatrix\"\u001b[0m\u001b[0;34m]\u001b[0m\u001b[0;34m\u001b[0m\u001b[0;34m\u001b[0m\u001b[0m\n\u001b[0m",
      "\u001b[0;31mKeyError\u001b[0m: 'reduced_bell_densitymatrix'"
     ]
    }
   ],
   "source": [
    "bell = result[\"results\"][0][\"data\"][\"reduced_bell_densitymatrix\"]"
   ]
  },
  {
   "cell_type": "code",
   "execution_count": 3,
   "metadata": {},
   "outputs": [
    {
     "ename": "NameError",
     "evalue": "name 'bell' is not defined",
     "output_type": "error",
     "traceback": [
      "\u001b[0;31m---------------------------------------------------------------------------\u001b[0m",
      "\u001b[0;31mNameError\u001b[0m                                 Traceback (most recent call last)",
      "\u001b[0;32m<ipython-input-3-68fde7c3bd88>\u001b[0m in \u001b[0;36m<module>\u001b[0;34m\u001b[0m\n\u001b[0;32m----> 1\u001b[0;31m \u001b[0mbell\u001b[0m\u001b[0;34m.\u001b[0m\u001b[0mshape\u001b[0m\u001b[0;34m\u001b[0m\u001b[0;34m\u001b[0m\u001b[0m\n\u001b[0m",
      "\u001b[0;31mNameError\u001b[0m: name 'bell' is not defined"
     ]
    }
   ],
   "source": [
    "bell.shape"
   ]
  },
  {
   "cell_type": "code",
   "execution_count": 10,
   "metadata": {},
   "outputs": [
    {
     "data": {
      "text/plain": [
       "<matplotlib.image.AxesImage at 0x7fdc8017ec50>"
      ]
     },
     "execution_count": 10,
     "metadata": {},
     "output_type": "execute_result"
    },
    {
     "data": {
      "image/png": "[encoded data removed]",
      "text/plain": [
       "<Figure size 432x288 with 1 Axes>"
      ]
     },
     "metadata": {
      "needs_background": "light"
     },
     "output_type": "display_data"
    }
   ],
   "source": [
    "plt.imshow(bell,cmap='hot', interpolation='nearest')"
   ]
  },
  {
   "cell_type": "code",
   "execution_count": 6,
   "metadata": {},
   "outputs": [],
   "source": [
    "import matplotlib.pyplot as plt\n",
    "import numpy as np\n",
    "from mpl_toolkits.mplot3d import Axes3D"
   ]
  },
  {
   "cell_type": "code",
   "execution_count": 7,
   "metadata": {},
   "outputs": [
    {
     "data": {
      "application/javascript": [
       "/* Put everything inside the global mpl namespace */\n",
       "window.mpl = {};\n",
       "\n",
       "\n",
       "mpl.get_websocket_type = function() {\n",
       "    if (typeof(WebSocket) !== 'undefined') {\n",
       "        return WebSocket;\n",
       "    } else if (typeof(MozWebSocket) !== 'undefined') {\n",
       "        return MozWebSocket;\n",
       "    } else {\n",
       "        alert('Your browser does not have WebSocket support. ' +\n",
       "              'Please try Chrome, Safari or Firefox ≥ 6. ' +\n",
       "              'Firefox 4 and 5 are also supported but you ' +\n",
       "              'have to enable WebSockets in about:config.');\n",
       "    };\n",
       "}\n",
       "\n",
       "mpl.figure = function(figure_id, websocket, ondownload, parent_element) {\n",
       "    this.id = figure_id;\n",
       "\n",
       "    this.ws = websocket;\n",
       "\n",
       "    this.supports_binary = (this.ws.binaryType != undefined);\n",
       "\n",
       "    if (!this.supports_binary) {\n",
       "        var warnings = document.getElementById(\"mpl-warnings\");\n",
       "        if (warnings) {\n",
       "            warnings.style.display = 'block';\n",
       "            warnings.textContent = (\n",
       "                \"This browser does not support binary websocket messages. \" +\n",
       "                    \"Performance may be slow.\");\n",
       "        }\n",
       "    }\n",
       "\n",
       "    this.imageObj = new Image();\n",
       "\n",
       "    this.context = undefined;\n",
       "    this.message = undefined;\n",
       "    this.canvas = undefined;\n",
       "    this.rubberband_canvas = undefined;\n",
       "    this.rubberband_context = undefined;\n",
       "    this.format_dropdown = undefined;\n",
       "\n",
       "    this.image_mode = 'full';\n",
       "\n",
       "    this.root = $('<div/>');\n",
       "    this._root_extra_style(this.root)\n",
       "    this.root.attr('style', 'display: inline-block');\n",
       "\n",
       "    $(parent_element).append(this.root);\n",
       "\n",
       "    this._init_header(this);\n",
       "    this._init_canvas(this);\n",
       "    this._init_toolbar(this);\n",
       "\n",
       "    var fig = this;\n",
       "\n",
       "    this.waiting = false;\n",
       "\n",
       "    this.ws.onopen =  function () {\n",
       "            fig.send_message(\"supports_binary\", {value: fig.supports_binary});\n",
       "            fig.send_message(\"send_image_mode\", {});\n",
       "            if (mpl.ratio != 1) {\n",
       "                fig.send_message(\"set_dpi_ratio\", {'dpi_ratio': mpl.ratio});\n",
       "            }\n",
       "            fig.send_message(\"refresh\", {});\n",
       "        }\n",
       "\n",
       "    this.imageObj.onload = function() {\n",
       "            if (fig.image_mode == 'full') {\n",
       "                // Full images could contain transparency (where diff images\n",
       "                // almost always do), so we need to clear the canvas so that\n",
       "                // there is no ghosting.\n",
       "                fig.context.clearRect(0, 0, fig.canvas.width, fig.canvas.height);\n",
       "            }\n",
       "            fig.context.drawImage(fig.imageObj, 0, 0);\n",
       "        };\n",
       "\n",
       "    this.imageObj.onunload = function() {\n",
       "        fig.ws.close();\n",
       "    }\n",
       "\n",
       "    this.ws.onmessage = this._make_on_message_function(this);\n",
       "\n",
       "    this.ondownload = ondownload;\n",
       "}\n",
       "\n",
       "mpl.figure.prototype._init_header = function() {\n",
       "    var titlebar = $(\n",
       "        '<div class=\"ui-dialog-titlebar ui-widget-header ui-corner-all ' +\n",
       "        'ui-helper-clearfix\"/>');\n",
       "    var titletext = $(\n",
       "        '<div class=\"ui-dialog-title\" style=\"width: 100%; ' +\n",
       "        'text-align: center; padding: 3px;\"/>');\n",
       "    titlebar.append(titletext)\n",
       "    this.root.append(titlebar);\n",
       "    this.header = titletext[0];\n",
       "}\n",
       "\n",
       "\n",
       "\n",
       "mpl.figure.prototype._canvas_extra_style = function(canvas_div) {\n",
       "\n",
       "}\n",
       "\n",
       "\n",
       "mpl.figure.prototype._root_extra_style = function(canvas_div) {\n",
       "\n",
       "}\n",
       "\n",
       "mpl.figure.prototype._init_canvas = function() {\n",
       "    var fig = this;\n",
       "\n",
       "    var canvas_div = $('<div/>');\n",
       "\n",
       "    canvas_div.attr('style', 'position: relative; clear: both; outline: 0');\n",
       "\n",
       "    function canvas_keyboard_event(event) {\n",
       "        return fig.key_event(event, event['data']);\n",
       "    }\n",
       "\n",
       "    canvas_div.keydown('key_press', canvas_keyboard_event);\n",
       "    canvas_div.keyup('key_release', canvas_keyboard_event);\n",
       "    this.canvas_div = canvas_div\n",
       "    this._canvas_extra_style(canvas_div)\n",
       "    this.root.append(canvas_div);\n",
       "\n",
       "    var canvas = $('<canvas/>');\n",
       "    canvas.addClass('mpl-canvas');\n",
       "    canvas.attr('style', \"left: 0; top: 0; z-index: 0; outline: 0\")\n",
       "\n",
       "    this.canvas = canvas[0];\n",
       "    this.context = canvas[0].getContext(\"2d\");\n",
       "\n",
       "    var backingStore = this.context.backingStorePixelRatio ||\n",
       "\tthis.context.webkitBackingStorePixelRatio ||\n",
       "\tthis.context.mozBackingStorePixelRatio ||\n",
       "\tthis.context.msBackingStorePixelRatio ||\n",
       "\tthis.context.oBackingStorePixelRatio ||\n",
       "\tthis.context.backingStorePixelRatio || 1;\n",
       "\n",
       "    mpl.ratio = (window.devicePixelRatio || 1) / backingStore;\n",
       "\n",
       "    var rubberband = $('<canvas/>');\n",
       "    rubberband.attr('style', \"position: absolute; left: 0; top: 0; z-index: 1;\")\n",
       "\n",
       "    var pass_mouse_events = true;\n",
       "\n",
       "    canvas_div.resizable({\n",
       "        start: function(event, ui) {\n",
       "            pass_mouse_events = false;\n",
       "        },\n",
       "        resize: function(event, ui) {\n",
       "            fig.request_resize(ui.size.width, ui.size.height);\n",
       "        },\n",
       "        stop: function(event, ui) {\n",
       "            pass_mouse_events = true;\n",
       "            fig.request_resize(ui.size.width, ui.size.height);\n",
       "        },\n",
       "    });\n",
       "\n",
       "    function mouse_event_fn(event) {\n",
       "        if (pass_mouse_events)\n",
       "            return fig.mouse_event(event, event['data']);\n",
       "    }\n",
       "\n",
       "    rubberband.mousedown('button_press', mouse_event_fn);\n",
       "    rubberband.mouseup('button_release', mouse_event_fn);\n",
       "    // Throttle sequential mouse events to 1 every 20ms.\n",
       "    rubberband.mousemove('motion_notify', mouse_event_fn);\n",
       "\n",
       "    rubberband.mouseenter('figure_enter', mouse_event_fn);\n",
       "    rubberband.mouseleave('figure_leave', mouse_event_fn);\n",
       "\n",
       "    canvas_div.on(\"wheel\", function (event) {\n",
       "        event = event.originalEvent;\n",
       "        event['data'] = 'scroll'\n",
       "        if (event.deltaY < 0) {\n",
       "            event.step = 1;\n",
       "        } else {\n",
       "            event.step = -1;\n",
       "        }\n",
       "        mouse_event_fn(event);\n",
       "    });\n",
       "\n",
       "    canvas_div.append(canvas);\n",
       "    canvas_div.append(rubberband);\n",
       "\n",
       "    this.rubberband = rubberband;\n",
       "    this.rubberband_canvas = rubberband[0];\n",
       "    this.rubberband_context = rubberband[0].getContext(\"2d\");\n",
       "    this.rubberband_context.strokeStyle = \"#000000\";\n",
       "\n",
       "    this._resize_canvas = function(width, height) {\n",
       "        // Keep the size of the canvas, canvas container, and rubber band\n",
       "        // canvas in synch.\n",
       "        canvas_div.css('width', width)\n",
       "        canvas_div.css('height', height)\n",
       "\n",
       "        canvas.attr('width', width * mpl.ratio);\n",
       "        canvas.attr('height', height * mpl.ratio);\n",
       "        canvas.attr('style', 'width: ' + width + 'px; height: ' + height + 'px;');\n",
       "\n",
       "        rubberband.attr('width', width);\n",
       "        rubberband.attr('height', height);\n",
       "    }\n",
       "\n",
       "    // Set the figure to an initial 600x600px, this will subsequently be updated\n",
       "    // upon first draw.\n",
       "    this._resize_canvas(600, 600);\n",
       "\n",
       "    // Disable right mouse context menu.\n",
       "    $(this.rubberband_canvas).bind(\"contextmenu\",function(e){\n",
       "        return false;\n",
       "    });\n",
       "\n",
       "    function set_focus () {\n",
       "        canvas.focus();\n",
       "        canvas_div.focus();\n",
       "    }\n",
       "\n",
       "    window.setTimeout(set_focus, 100);\n",
       "}\n",
       "\n",
       "mpl.figure.prototype._init_toolbar = function() {\n",
       "    var fig = this;\n",
       "\n",
       "    var nav_element = $('<div/>');\n",
       "    nav_element.attr('style', 'width: 100%');\n",
       "    this.root.append(nav_element);\n",
       "\n",
       "    // Define a callback function for later on.\n",
       "    function toolbar_event(event) {\n",
       "        return fig.toolbar_button_onclick(event['data']);\n",
       "    }\n",
       "    function toolbar_mouse_event(event) {\n",
       "        return fig.toolbar_button_onmouseover(event['data']);\n",
       "    }\n",
       "\n",
       "    for(var toolbar_ind in mpl.toolbar_items) {\n",
       "        var name = mpl.toolbar_items[toolbar_ind][0];\n",
       "        var tooltip = mpl.toolbar_items[toolbar_ind][1];\n",
       "        var image = mpl.toolbar_items[toolbar_ind][2];\n",
       "        var method_name = mpl.toolbar_items[toolbar_ind][3];\n",
       "\n",
       "        if (!name) {\n",
       "            // put a spacer in here.\n",
       "            continue;\n",
       "        }\n",
       "        var button = $('<button/>');\n",
       "        button.addClass('ui-button ui-widget ui-state-default ui-corner-all ' +\n",
       "                        'ui-button-icon-only');\n",
       "        button.attr('role', 'button');\n",
       "        button.attr('aria-disabled', 'false');\n",
       "        button.click(method_name, toolbar_event);\n",
       "        button.mouseover(tooltip, toolbar_mouse_event);\n",
       "\n",
       "        var icon_img = $('<span/>');\n",
       "        icon_img.addClass('ui-button-icon-primary ui-icon');\n",
       "        icon_img.addClass(image);\n",
       "        icon_img.addClass('ui-corner-all');\n",
       "\n",
       "        var tooltip_span = $('<span/>');\n",
       "        tooltip_span.addClass('ui-button-text');\n",
       "        tooltip_span.html(tooltip);\n",
       "\n",
       "        button.append(icon_img);\n",
       "        button.append(tooltip_span);\n",
       "\n",
       "        nav_element.append(button);\n",
       "    }\n",
       "\n",
       "    var fmt_picker_span = $('<span/>');\n",
       "\n",
       "    var fmt_picker = $('<select/>');\n",
       "    fmt_picker.addClass('mpl-toolbar-option ui-widget ui-widget-content');\n",
       "    fmt_picker_span.append(fmt_picker);\n",
       "    nav_element.append(fmt_picker_span);\n",
       "    this.format_dropdown = fmt_picker[0];\n",
       "\n",
       "    for (var ind in mpl.extensions) {\n",
       "        var fmt = mpl.extensions[ind];\n",
       "        var option = $(\n",
       "            '<option/>', {selected: fmt === mpl.default_extension}).html(fmt);\n",
       "        fmt_picker.append(option);\n",
       "    }\n",
       "\n",
       "    // Add hover states to the ui-buttons\n",
       "    $( \".ui-button\" ).hover(\n",
       "        function() { $(this).addClass(\"ui-state-hover\");},\n",
       "        function() { $(this).removeClass(\"ui-state-hover\");}\n",
       "    );\n",
       "\n",
       "    var status_bar = $('<span class=\"mpl-message\"/>');\n",
       "    nav_element.append(status_bar);\n",
       "    this.message = status_bar[0];\n",
       "}\n",
       "\n",
       "mpl.figure.prototype.request_resize = function(x_pixels, y_pixels) {\n",
       "    // Request matplotlib to resize the figure. Matplotlib will then trigger a resize in the client,\n",
       "    // which will in turn request a refresh of the image.\n",
       "    this.send_message('resize', {'width': x_pixels, 'height': y_pixels});\n",
       "}\n",
       "\n",
       "mpl.figure.prototype.send_message = function(type, properties) {\n",
       "    properties['type'] = type;\n",
       "    properties['figure_id'] = this.id;\n",
       "    this.ws.send(JSON.stringify(properties));\n",
       "}\n",
       "\n",
       "mpl.figure.prototype.send_draw_message = function() {\n",
       "    if (!this.waiting) {\n",
       "        this.waiting = true;\n",
       "        this.ws.send(JSON.stringify({type: \"draw\", figure_id: this.id}));\n",
       "    }\n",
       "}\n",
       "\n",
       "\n",
       "mpl.figure.prototype.handle_save = function(fig, msg) {\n",
       "    var format_dropdown = fig.format_dropdown;\n",
       "    var format = format_dropdown.options[format_dropdown.selectedIndex].value;\n",
       "    fig.ondownload(fig, format);\n",
       "}\n",
       "\n",
       "\n",
       "mpl.figure.prototype.handle_resize = function(fig, msg) {\n",
       "    var size = msg['size'];\n",
       "    if (size[0] != fig.canvas.width || size[1] != fig.canvas.height) {\n",
       "        fig._resize_canvas(size[0], size[1]);\n",
       "        fig.send_message(\"refresh\", {});\n",
       "    };\n",
       "}\n",
       "\n",
       "mpl.figure.prototype.handle_rubberband = function(fig, msg) {\n",
       "    var x0 = msg['x0'] / mpl.ratio;\n",
       "    var y0 = (fig.canvas.height - msg['y0']) / mpl.ratio;\n",
       "    var x1 = msg['x1'] / mpl.ratio;\n",
       "    var y1 = (fig.canvas.height - msg['y1']) / mpl.ratio;\n",
       "    x0 = Math.floor(x0) + 0.5;\n",
       "    y0 = Math.floor(y0) + 0.5;\n",
       "    x1 = Math.floor(x1) + 0.5;\n",
       "    y1 = Math.floor(y1) + 0.5;\n",
       "    var min_x = Math.min(x0, x1);\n",
       "    var min_y = Math.min(y0, y1);\n",
       "    var width = Math.abs(x1 - x0);\n",
       "    var height = Math.abs(y1 - y0);\n",
       "\n",
       "    fig.rubberband_context.clearRect(\n",
       "        0, 0, fig.canvas.width, fig.canvas.height);\n",
       "\n",
       "    fig.rubberband_context.strokeRect(min_x, min_y, width, height);\n",
       "}\n",
       "\n",
       "mpl.figure.prototype.handle_figure_label = function(fig, msg) {\n",
       "    // Updates the figure title.\n",
       "    fig.header.textContent = msg['label'];\n",
       "}\n",
       "\n",
       "mpl.figure.prototype.handle_cursor = function(fig, msg) {\n",
       "    var cursor = msg['cursor'];\n",
       "    switch(cursor)\n",
       "    {\n",
       "    case 0:\n",
       "        cursor = 'pointer';\n",
       "        break;\n",
       "    case 1:\n",
       "        cursor = 'default';\n",
       "        break;\n",
       "    case 2:\n",
       "        cursor = 'crosshair';\n",
       "        break;\n",
       "    case 3:\n",
       "        cursor = 'move';\n",
       "        break;\n",
       "    }\n",
       "    fig.rubberband_canvas.style.cursor = cursor;\n",
       "}\n",
       "\n",
       "mpl.figure.prototype.handle_message = function(fig, msg) {\n",
       "    fig.message.textContent = msg['message'];\n",
       "}\n",
       "\n",
       "mpl.figure.prototype.handle_draw = function(fig, msg) {\n",
       "    // Request the server to send over a new figure.\n",
       "    fig.send_draw_message();\n",
       "}\n",
       "\n",
       "mpl.figure.prototype.handle_image_mode = function(fig, msg) {\n",
       "    fig.image_mode = msg['mode'];\n",
       "}\n",
       "\n",
       "mpl.figure.prototype.updated_canvas_event = function() {\n",
       "    // Called whenever the canvas gets updated.\n",
       "    this.send_message(\"ack\", {});\n",
       "}\n",
       "\n",
       "// A function to construct a web socket function for onmessage handling.\n",
       "// Called in the figure constructor.\n",
       "mpl.figure.prototype._make_on_message_function = function(fig) {\n",
       "    return function socket_on_message(evt) {\n",
       "        if (evt.data instanceof Blob) {\n",
       "            /* FIXME: We get \"Resource interpreted as Image but\n",
       "             * transferred with MIME type text/plain:\" errors on\n",
       "             * Chrome.  But how to set the MIME type?  It doesn't seem\n",
       "             * to be part of the websocket stream */\n",
       "            evt.data.type = \"image/png\";\n",
       "\n",
       "            /* Free the memory for the previous frames */\n",
       "            if (fig.imageObj.src) {\n",
       "                (window.URL || window.webkitURL).revokeObjectURL(\n",
       "                    fig.imageObj.src);\n",
       "            }\n",
       "\n",
       "            fig.imageObj.src = (window.URL || window.webkitURL).createObjectURL(\n",
       "                evt.data);\n",
       "            fig.updated_canvas_event();\n",
       "            fig.waiting = false;\n",
       "            return;\n",
       "        }\n",
       "        else if (typeof evt.data === 'string' && evt.data.slice(0, 21) == \"data:image/png;base64\") {\n",
       "            fig.imageObj.src = evt.data;\n",
       "            fig.updated_canvas_event();\n",
       "            fig.waiting = false;\n",
       "            return;\n",
       "        }\n",
       "\n",
       "        var msg = JSON.parse(evt.data);\n",
       "        var msg_type = msg['type'];\n",
       "\n",
       "        // Call the  \"handle_{type}\" callback, which takes\n",
       "        // the figure and JSON message as its only arguments.\n",
       "        try {\n",
       "            var callback = fig[\"handle_\" + msg_type];\n",
       "        } catch (e) {\n",
       "            console.log(\"No handler for the '\" + msg_type + \"' message type: \", msg);\n",
       "            return;\n",
       "        }\n",
       "\n",
       "        if (callback) {\n",
       "            try {\n",
       "                // console.log(\"Handling '\" + msg_type + \"' message: \", msg);\n",
       "                callback(fig, msg);\n",
       "            } catch (e) {\n",
       "                console.log(\"Exception inside the 'handler_\" + msg_type + \"' callback:\", e, e.stack, msg);\n",
       "            }\n",
       "        }\n",
       "    };\n",
       "}\n",
       "\n",
       "// from http://stackoverflow.com/questions/1114465/getting-mouse-location-in-canvas\n",
       "mpl.findpos = function(e) {\n",
       "    //this section is from http://www.quirksmode.org/js/events_properties.html\n",
       "    var targ;\n",
       "    if (!e)\n",
       "        e = window.event;\n",
       "    if (e.target)\n",
       "        targ = e.target;\n",
       "    else if (e.srcElement)\n",
       "        targ = e.srcElement;\n",
       "    if (targ.nodeType == 3) // defeat Safari bug\n",
       "        targ = targ.parentNode;\n",
       "\n",
       "    // jQuery normalizes the pageX and pageY\n",
       "    // pageX,Y are the mouse positions relative to the document\n",
       "    // offset() returns the position of the element relative to the document\n",
       "    var x = e.pageX - $(targ).offset().left;\n",
       "    var y = e.pageY - $(targ).offset().top;\n",
       "\n",
       "    return {\"x\": x, \"y\": y};\n",
       "};\n",
       "\n",
       "/*\n",
       " * return a copy of an object with only non-object keys\n",
       " * we need this to avoid circular references\n",
       " * http://stackoverflow.com/a/24161582/3208463\n",
       " */\n",
       "function simpleKeys (original) {\n",
       "  return Object.keys(original).reduce(function (obj, key) {\n",
       "    if (typeof original[key] !== 'object')\n",
       "        obj[key] = original[key]\n",
       "    return obj;\n",
       "  }, {});\n",
       "}\n",
       "\n",
       "mpl.figure.prototype.mouse_event = function(event, name) {\n",
       "    var canvas_pos = mpl.findpos(event)\n",
       "\n",
       "    if (name === 'button_press')\n",
       "    {\n",
       "        this.canvas.focus();\n",
       "        this.canvas_div.focus();\n",
       "    }\n",
       "\n",
       "    var x = canvas_pos.x * mpl.ratio;\n",
       "    var y = canvas_pos.y * mpl.ratio;\n",
       "\n",
       "    this.send_message(name, {x: x, y: y, button: event.button,\n",
       "                             step: event.step,\n",
       "                             guiEvent: simpleKeys(event)});\n",
       "\n",
       "    /* This prevents the web browser from automatically changing to\n",
       "     * the text insertion cursor when the button is pressed.  We want\n",
       "     * to control all of the cursor setting manually through the\n",
       "     * 'cursor' event from matplotlib */\n",
       "    event.preventDefault();\n",
       "    return false;\n",
       "}\n",
       "\n",
       "mpl.figure.prototype._key_event_extra = function(event, name) {\n",
       "    // Handle any extra behaviour associated with a key event\n",
       "}\n",
       "\n",
       "mpl.figure.prototype.key_event = function(event, name) {\n",
       "\n",
       "    // Prevent repeat events\n",
       "    if (name == 'key_press')\n",
       "    {\n",
       "        if (event.which === this._key)\n",
       "            return;\n",
       "        else\n",
       "            this._key = event.which;\n",
       "    }\n",
       "    if (name == 'key_release')\n",
       "        this._key = null;\n",
       "\n",
       "    var value = '';\n",
       "    if (event.ctrlKey && event.which != 17)\n",
       "        value += \"ctrl+\";\n",
       "    if (event.altKey && event.which != 18)\n",
       "        value += \"alt+\";\n",
       "    if (event.shiftKey && event.which != 16)\n",
       "        value += \"shift+\";\n",
       "\n",
       "    value += 'k';\n",
       "    value += event.which.toString();\n",
       "\n",
       "    this._key_event_extra(event, name);\n",
       "\n",
       "    this.send_message(name, {key: value,\n",
       "                             guiEvent: simpleKeys(event)});\n",
       "    return false;\n",
       "}\n",
       "\n",
       "mpl.figure.prototype.toolbar_button_onclick = function(name) {\n",
       "    if (name == 'download') {\n",
       "        this.handle_save(this, null);\n",
       "    } else {\n",
       "        this.send_message(\"toolbar_button\", {name: name});\n",
       "    }\n",
       "};\n",
       "\n",
       "mpl.figure.prototype.toolbar_button_onmouseover = function(tooltip) {\n",
       "    this.message.textContent = tooltip;\n",
       "};\n",
       "mpl.toolbar_items = [[\"Home\", \"Reset original view\", \"fa fa-home icon-home\", \"home\"], [\"Back\", \"Back to previous view\", \"fa fa-arrow-left icon-arrow-left\", \"back\"], [\"Forward\", \"Forward to next view\", \"fa fa-arrow-right icon-arrow-right\", \"forward\"], [\"\", \"\", \"\", \"\"], [\"Pan\", \"Pan axes with left mouse, zoom with right\", \"fa fa-arrows icon-move\", \"pan\"], [\"Zoom\", \"Zoom to rectangle\", \"fa fa-square-o icon-check-empty\", \"zoom\"], [\"\", \"\", \"\", \"\"], [\"Download\", \"Download plot\", \"fa fa-floppy-o icon-save\", \"download\"]];\n",
       "\n",
       "mpl.extensions = [\"eps\", \"pdf\", \"png\", \"ps\", \"raw\", \"svg\"];\n",
       "\n",
       "mpl.default_extension = \"png\";var comm_websocket_adapter = function(comm) {\n",
       "    // Create a \"websocket\"-like object which calls the given IPython comm\n",
       "    // object with the appropriate methods. Currently this is a non binary\n",
       "    // socket, so there is still some room for performance tuning.\n",
       "    var ws = {};\n",
       "\n",
       "    ws.close = function() {\n",
       "        comm.close()\n",
       "    };\n",
       "    ws.send = function(m) {\n",
       "        //console.log('sending', m);\n",
       "        comm.send(m);\n",
       "    };\n",
       "    // Register the callback with on_msg.\n",
       "    comm.on_msg(function(msg) {\n",
       "        //console.log('receiving', msg['content']['data'], msg);\n",
       "        // Pass the mpl event to the overridden (by mpl) onmessage function.\n",
       "        ws.onmessage(msg['content']['data'])\n",
       "    });\n",
       "    return ws;\n",
       "}\n",
       "\n",
       "mpl.mpl_figure_comm = function(comm, msg) {\n",
       "    // This is the function which gets called when the mpl process\n",
       "    // starts-up an IPython Comm through the \"matplotlib\" channel.\n",
       "\n",
       "    var id = msg.content.data.id;\n",
       "    // Get hold of the div created by the display call when the Comm\n",
       "    // socket was opened in Python.\n",
       "    var element = $(\"#\" + id);\n",
       "    var ws_proxy = comm_websocket_adapter(comm)\n",
       "\n",
       "    function ondownload(figure, format) {\n",
       "        window.open(figure.imageObj.src);\n",
       "    }\n",
       "\n",
       "    var fig = new mpl.figure(id, ws_proxy,\n",
       "                           ondownload,\n",
       "                           element.get(0));\n",
       "\n",
       "    // Call onopen now - mpl needs it, as it is assuming we've passed it a real\n",
       "    // web socket which is closed, not our websocket->open comm proxy.\n",
       "    ws_proxy.onopen();\n",
       "\n",
       "    fig.parent_element = element.get(0);\n",
       "    fig.cell_info = mpl.find_output_cell(\"<div id='\" + id + \"'></div>\");\n",
       "    if (!fig.cell_info) {\n",
       "        console.error(\"Failed to find cell for figure\", id, fig);\n",
       "        return;\n",
       "    }\n",
       "\n",
       "    var output_index = fig.cell_info[2]\n",
       "    var cell = fig.cell_info[0];\n",
       "\n",
       "};\n",
       "\n",
       "mpl.figure.prototype.handle_close = function(fig, msg) {\n",
       "    var width = fig.canvas.width/mpl.ratio\n",
       "    fig.root.unbind('remove')\n",
       "\n",
       "    // Update the output cell to use the data from the current canvas.\n",
       "    fig.push_to_output();\n",
       "    var dataURL = fig.canvas.toDataURL();\n",
       "    // Re-enable the keyboard manager in IPython - without this line, in FF,\n",
       "    // the notebook keyboard shortcuts fail.\n",
       "    IPython.keyboard_manager.enable()\n",
       "    $(fig.parent_element).html('<img src=\"' + dataURL + '\" width=\"' + width + '\">');\n",
       "    fig.close_ws(fig, msg);\n",
       "}\n",
       "\n",
       "mpl.figure.prototype.close_ws = function(fig, msg){\n",
       "    fig.send_message('closing', msg);\n",
       "    // fig.ws.close()\n",
       "}\n",
       "\n",
       "mpl.figure.prototype.push_to_output = function(remove_interactive) {\n",
       "    // Turn the data on the canvas into data in the output cell.\n",
       "    var width = this.canvas.width/mpl.ratio\n",
       "    var dataURL = this.canvas.toDataURL();\n",
       "    this.cell_info[1]['text/html'] = '<img src=\"' + dataURL + '\" width=\"' + width + '\">';\n",
       "}\n",
       "\n",
       "mpl.figure.prototype.updated_canvas_event = function() {\n",
       "    // Tell IPython that the notebook contents must change.\n",
       "    IPython.notebook.set_dirty(true);\n",
       "    this.send_message(\"ack\", {});\n",
       "    var fig = this;\n",
       "    // Wait a second, then push the new image to the DOM so\n",
       "    // that it is saved nicely (might be nice to debounce this).\n",
       "    setTimeout(function () { fig.push_to_output() }, 1000);\n",
       "}\n",
       "\n",
       "mpl.figure.prototype._init_toolbar = function() {\n",
       "    var fig = this;\n",
       "\n",
       "    var nav_element = $('<div/>');\n",
       "    nav_element.attr('style', 'width: 100%');\n",
       "    this.root.append(nav_element);\n",
       "\n",
       "    // Define a callback function for later on.\n",
       "    function toolbar_event(event) {\n",
       "        return fig.toolbar_button_onclick(event['data']);\n",
       "    }\n",
       "    function toolbar_mouse_event(event) {\n",
       "        return fig.toolbar_button_onmouseover(event['data']);\n",
       "    }\n",
       "\n",
       "    for(var toolbar_ind in mpl.toolbar_items){\n",
       "        var name = mpl.toolbar_items[toolbar_ind][0];\n",
       "        var tooltip = mpl.toolbar_items[toolbar_ind][1];\n",
       "        var image = mpl.toolbar_items[toolbar_ind][2];\n",
       "        var method_name = mpl.toolbar_items[toolbar_ind][3];\n",
       "\n",
       "        if (!name) { continue; };\n",
       "\n",
       "        var button = $('<button class=\"btn btn-default\" href=\"#\" title=\"' + name + '\"><i class=\"fa ' + image + ' fa-lg\"></i></button>');\n",
       "        button.click(method_name, toolbar_event);\n",
       "        button.mouseover(tooltip, toolbar_mouse_event);\n",
       "        nav_element.append(button);\n",
       "    }\n",
       "\n",
       "    // Add the status bar.\n",
       "    var status_bar = $('<span class=\"mpl-message\" style=\"text-align:right; float: right;\"/>');\n",
       "    nav_element.append(status_bar);\n",
       "    this.message = status_bar[0];\n",
       "\n",
       "    // Add the close button to the window.\n",
       "    var buttongrp = $('<div class=\"btn-group inline pull-right\"></div>');\n",
       "    var button = $('<button class=\"btn btn-mini btn-primary\" href=\"#\" title=\"Stop Interaction\"><i class=\"fa fa-power-off icon-remove icon-large\"></i></button>');\n",
       "    button.click(function (evt) { fig.handle_close(fig, {}); } );\n",
       "    button.mouseover('Stop Interaction', toolbar_mouse_event);\n",
       "    buttongrp.append(button);\n",
       "    var titlebar = this.root.find($('.ui-dialog-titlebar'));\n",
       "    titlebar.prepend(buttongrp);\n",
       "}\n",
       "\n",
       "mpl.figure.prototype._root_extra_style = function(el){\n",
       "    var fig = this\n",
       "    el.on(\"remove\", function(){\n",
       "\tfig.close_ws(fig, {});\n",
       "    });\n",
       "}\n",
       "\n",
       "mpl.figure.prototype._canvas_extra_style = function(el){\n",
       "    // this is important to make the div 'focusable\n",
       "    el.attr('tabindex', 0)\n",
       "    // reach out to IPython and tell the keyboard manager to turn it's self\n",
       "    // off when our div gets focus\n",
       "\n",
       "    // location in version 3\n",
       "    if (IPython.notebook.keyboard_manager) {\n",
       "        IPython.notebook.keyboard_manager.register_events(el);\n",
       "    }\n",
       "    else {\n",
       "        // location in version 2\n",
       "        IPython.keyboard_manager.register_events(el);\n",
       "    }\n",
       "\n",
       "}\n",
       "\n",
       "mpl.figure.prototype._key_event_extra = function(event, name) {\n",
       "    var manager = IPython.notebook.keyboard_manager;\n",
       "    if (!manager)\n",
       "        manager = IPython.keyboard_manager;\n",
       "\n",
       "    // Check for shift+enter\n",
       "    if (event.shiftKey && event.which == 13) {\n",
       "        this.canvas_div.blur();\n",
       "        event.shiftKey = false;\n",
       "        // Send a \"J\" for go to next cell\n",
       "        event.which = 74;\n",
       "        event.keyCode = 74;\n",
       "        manager.command_mode();\n",
       "        manager.handle_keydown(event);\n",
       "    }\n",
       "}\n",
       "\n",
       "mpl.figure.prototype.handle_save = function(fig, msg) {\n",
       "    fig.ondownload(fig, null);\n",
       "}\n",
       "\n",
       "\n",
       "mpl.find_output_cell = function(html_output) {\n",
       "    // Return the cell and output element which can be found *uniquely* in the notebook.\n",
       "    // Note - this is a bit hacky, but it is done because the \"notebook_saving.Notebook\"\n",
       "    // IPython event is triggered only after the cells have been serialised, which for\n",
       "    // our purposes (turning an active figure into a static one), is too late.\n",
       "    var cells = IPython.notebook.get_cells();\n",
       "    var ncells = cells.length;\n",
       "    for (var i=0; i<ncells; i++) {\n",
       "        var cell = cells[i];\n",
       "        if (cell.cell_type === 'code'){\n",
       "            for (var j=0; j<cell.output_area.outputs.length; j++) {\n",
       "                var data = cell.output_area.outputs[j];\n",
       "                if (data.data) {\n",
       "                    // IPython >= 3 moved mimebundle to data attribute of output\n",
       "                    data = data.data;\n",
       "                }\n",
       "                if (data['text/html'] == html_output) {\n",
       "                    return [cell, data, j];\n",
       "                }\n",
       "            }\n",
       "        }\n",
       "    }\n",
       "}\n",
       "\n",
       "// Register the function which deals with the matplotlib target/channel.\n",
       "// The kernel may be null if the page has been refreshed.\n",
       "if (IPython.notebook.kernel != null) {\n",
       "    IPython.notebook.kernel.comm_manager.register_target('matplotlib', mpl.mpl_figure_comm);\n",
       "}\n"
      ],
      "text/plain": [
       "<IPython.core.display.Javascript object>"
      ]
     },
     "metadata": {},
     "output_type": "display_data"
    },
    {
     "data": {
      "text/html": [
       "<img src=\"data:image/png;base64,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\" width=\"640\">"
      ],
      "text/plain": [
       "<IPython.core.display.HTML object>"
      ]
     },
     "metadata": {},
     "output_type": "display_data"
    }
   ],
   "source": [
    "fig = plt.figure()\n",
    "ax1 = fig.add_subplot(121, projection='3d')\n",
    "_x = np.arange(4)\n",
    "_y = np.arange(4)\n",
    "_xx, _yy = np.meshgrid(_x, _y)\n",
    "x, y = _xx.ravel(), _yy.ravel()"
   ]
  },
  {
   "cell_type": "code",
   "execution_count": 17,
   "metadata": {},
   "outputs": [
    {
     "data": {
      "text/plain": [
       "(array([0, 1, 2, 3, 0, 1, 2, 3, 0, 1, 2, 3, 0, 1, 2, 3]),\n",
       " array([0, 0, 0, 0, 1, 1, 1, 1, 2, 2, 2, 2, 3, 3, 3, 3]))"
      ]
     },
     "execution_count": 17,
     "metadata": {},
     "output_type": "execute_result"
    }
   ],
   "source": [
    "x,y"
   ]
  },
  {
   "cell_type": "code",
   "execution_count": 18,
   "metadata": {},
   "outputs": [],
   "source": [
    "z = bell[x,y]"
   ]
  },
  {
   "cell_type": "code",
   "execution_count": 19,
   "metadata": {},
   "outputs": [
    {
     "data": {
      "text/plain": [
       "array([1.25000000e-01, 0.00000000e+00, 0.00000000e+00, 1.25000000e-01,\n",
       "       1.25000000e-01, 0.00000000e+00, 0.00000000e+00, 1.25000000e-01,\n",
       "       0.00000000e+00, 0.00000000e+00, 0.00000000e+00, 0.00000000e+00,\n",
       "       7.65404249e-18, 0.00000000e+00, 0.00000000e+00, 7.65404249e-18])"
      ]
     },
     "execution_count": 19,
     "metadata": {},
     "output_type": "execute_result"
    }
   ],
   "source": [
    "z"
   ]
  },
  {
   "cell_type": "code",
   "execution_count": 20,
   "metadata": {},
   "outputs": [],
   "source": [
    "zz = np.zeros_like(z)"
   ]
  },
  {
   "cell_type": "code",
   "execution_count": 21,
   "metadata": {},
   "outputs": [
    {
     "data": {
      "text/plain": [
       "array([0., 0., 0., 0., 0., 0., 0., 0., 0., 0., 0., 0., 0., 0., 0., 0.])"
      ]
     },
     "execution_count": 21,
     "metadata": {},
     "output_type": "execute_result"
    }
   ],
   "source": [
    "zz"
   ]
  },
  {
   "cell_type": "code",
   "execution_count": 34,
   "metadata": {},
   "outputs": [
    {
     "data": {
      "text/plain": [
       "<mpl_toolkits.mplot3d.art3d.Poly3DCollection at 0x7fdc80070b00>"
      ]
     },
     "execution_count": 34,
     "metadata": {},
     "output_type": "execute_result"
    }
   ],
   "source": [
    "ax1.bar3d(x, y, zz,0.1,0.1,z, shade=True)"
   ]
  },
  {
   "cell_type": "code",
   "execution_count": 35,
   "metadata": {},
   "outputs": [],
   "source": [
    "plt.show()"
   ]
  },
  {
   "cell_type": "code",
   "execution_count": 7,
   "metadata": {},
   "outputs": [],
   "source": [
    "from matplotlib import cm"
   ]
  },
  {
   "cell_type": "code",
   "execution_count": 13,
   "metadata": {},
   "outputs": [
    {
     "data": {
      "image/png": "[encoded data removed]",
      "text/plain": [
       "<Figure size 432x288 with 1 Axes>"
      ]
     },
     "metadata": {
      "needs_background": "light"
     },
     "output_type": "display_data"
    }
   ],
   "source": [
    "fig = plt.figure()\n",
    "ax = fig.add_subplot(111, projection='3d')\n",
    "\n",
    "_x = range(4)\n",
    "_y = range(4)\n",
    "_xx, _yy = np.meshgrid(_x, _y)\n",
    "x, y = _xx.ravel(), _yy.ravel()\n",
    "top = bell[x,y]\n",
    "bottom = np.zeros_like(top)\n",
    "width = 0.5\n",
    "depth = 0.5\n",
    "ax.bar3d(x-0.25, y-0.5, bottom, width, depth, top, alpha=0.5,shade=True)\n",
    "\n",
    "#ax2.bar3d(x, y, bottom, width, depth, top, shade=False)\n",
    "#ax2.set_title('Not Shaded')\n",
    "#ax.set_xlim3d(0,4)\n",
    "#ax.set_ylim3d(0,4)\n",
    "ax.set_zlim3d(-0.125,0.125)\n",
    "plt.rcParams['lines.linewidth'] = 1\n",
    "ax.w_xaxis.set_ticks(x)\n",
    "ax.w_yaxis.set_ticks(y)\n",
    "\n",
    "plt.show()"
   ]
  },
  {
   "cell_type": "code",
   "execution_count": 76,
   "metadata": {},
   "outputs": [
    {
     "data": {
      "text/plain": [
       "(array([0, 1, 2, 3, 0, 1, 2, 3, 0, 1, 2, 3, 0, 1, 2, 3]),\n",
       " array([0, 0, 0, 0, 1, 1, 1, 1, 2, 2, 2, 2, 3, 3, 3, 3]))"
      ]
     },
     "execution_count": 76,
     "metadata": {},
     "output_type": "execute_result"
    }
   ],
   "source": [
    "x ,y"
   ]
  },
  {
   "cell_type": "code",
   "execution_count": null,
   "metadata": {},
   "outputs": [],
   "source": []
  }
 ],
 "metadata": {
  "kernelspec": {
   "display_name": "Python 3",
   "language": "python",
   "name": "python3"
  },
  "language_info": {
   "codemirror_mode": {
    "name": "ipython",
    "version": 3
   },
   "file_extension": ".py",
   "mimetype": "text/x-python",
   "name": "python",
   "nbconvert_exporter": "python",
   "pygments_lexer": "ipython3",
   "version": "3.7.3"
  }
 },
 "nbformat": 4,
 "nbformat_minor": 4
}
